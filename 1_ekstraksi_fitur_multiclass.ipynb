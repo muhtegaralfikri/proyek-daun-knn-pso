{
 "cells": [
  {
   "cell_type": "code",
   "execution_count": 1,
   "id": "012121db",
   "metadata": {},
   "outputs": [],
   "source": [
    "import os\n",
    "import numpy as np\n",
    "import pandas as pd\n",
    "from PIL import Image"
   ]
  },
  {
   "cell_type": "code",
   "execution_count": 2,
   "id": "351e6b04",
   "metadata": {},
   "outputs": [
    {
     "name": "stdout",
     "output_type": "stream",
     "text": [
      "Memulai ekstraksi fitur untuk kelas: beras, katuk, kelor, kentang, saga, tomat\n",
      "- Memproses 312 gambar dari folder 'beras'...\n",
      "- Memproses 312 gambar dari folder 'katuk'...\n",
      "- Memproses 312 gambar dari folder 'kelor'...\n",
      "- Memproses 312 gambar dari folder 'kentang'...\n",
      "- Memproses 312 gambar dari folder 'saga'...\n",
      "- Memproses 312 gambar dari folder 'tomat'...\n",
      "\n",
      "Ekstraksi fitur selesai!\n",
      "Berhasil membuat file 'data_daun_multiclass.xlsx' dengan 1872 baris data.\n"
     ]
    }
   ],
   "source": [
    "dataset_path = 'dataset/'\n",
    "\n",
    "try:\n",
    "    labels = [d for d in os.listdir(dataset_path) if os.path.isdir(os.path.join(dataset_path, d))]\n",
    "    if not labels:\n",
    "        print(f\"Error: Tidak ada folder ditemukan di dalam '{dataset_path}'. Pastikan struktur folder Anda benar.\")\n",
    "        exit()\n",
    "except FileNotFoundError:\n",
    "    print(f\"Error: Folder '{dataset_path}' tidak ditemukan. Pastikan Anda menjalankan skrip ini dari folder proyek yang benar.\")\n",
    "    exit()\n",
    "\n",
    "data_list = []\n",
    "\n",
    "print(f\"Memulai ekstraksi fitur untuk kelas: {', '.join(labels)}\")\n",
    "\n",
    "# Loop melalui setiap folder spesies\n",
    "for label in labels:\n",
    "    folder_path = os.path.join(dataset_path, label)\n",
    "    image_files = [f for f in os.listdir(folder_path) if f.endswith(('.jpg', '.png', '.jpeg'))]\n",
    "    print(f\"- Memproses {len(image_files)} gambar dari folder '{label}'...\")\n",
    "    \n",
    "    for filename in image_files:\n",
    "        image_path = os.path.join(folder_path, filename)\n",
    "        try:\n",
    "            # Buka gambar dan hitung rata-rata warnanya\n",
    "            with Image.open(image_path) as img:\n",
    "                img_array = np.array(img)\n",
    "                avg_rgb = np.mean(img_array, axis=(0, 1))\n",
    "                # Simpan fitur (R, G, B) dan labelnya\n",
    "                data_row = [avg_rgb[0], avg_rgb[1], avg_rgb[2], label]\n",
    "                data_list.append(data_row)\n",
    "        except Exception as e:\n",
    "            print(f\"  Peringatan: Gagal memproses gambar {image_path}: {e}\")\n",
    "\n",
    "# Buat DataFrame pandas dari hasil ekstraksi\n",
    "columns = ['rata_R', 'rata_G', 'rata_B', 'label']\n",
    "df = pd.DataFrame(data_list, columns=columns)\n",
    "\n",
    "df.to_excel('data_daun_multiclass.xlsx', index=False)\n",
    "\n",
    "print(\"\\nEkstraksi fitur selesai!\")\n",
    "print(f\"Berhasil membuat file 'data_daun_multiclass.xlsx' dengan {len(df)} baris data.\")\n"
   ]
  }
 ],
 "metadata": {
  "kernelspec": {
   "display_name": "Python 3",
   "language": "python",
   "name": "python3"
  },
  "language_info": {
   "codemirror_mode": {
    "name": "ipython",
    "version": 3
   },
   "file_extension": ".py",
   "mimetype": "text/x-python",
   "name": "python",
   "nbconvert_exporter": "python",
   "pygments_lexer": "ipython3",
   "version": "3.13.2"
  }
 },
 "nbformat": 4,
 "nbformat_minor": 5
}
